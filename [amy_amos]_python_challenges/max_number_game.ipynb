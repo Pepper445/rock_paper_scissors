{
 "cells": [
  {
   "cell_type": "code",
   "execution_count": 5,
   "id": "25820850",
   "metadata": {},
   "outputs": [
    {
     "name": "stdout",
     "output_type": "stream",
     "text": [
      "👋 Fine, leave the game. See ya.\n"
     ]
    }
   ],
   "source": [
    "# Clean up and start fresh!\n",
    "from IPython.display import clear_output\n",
    "\n",
    "def find_max(numbers):\n",
    "    \"\"\"\n",
    "    Return the largest number in a list of integers or floats.\n",
    "    Didn't use the built-in max() function.\n",
    "    \"\"\"\n",
    "    if not isinstance(numbers, (list, tuple, set)):\n",
    "        raise TypeError(\"Dude, why aren't you entering a set of numbers here? Separate them by commas, it's not rocket science.\")\n",
    "    if not numbers:\n",
    "        raise ValueError(\"Yo, enter some numbers dude. Separate them by commas, It's not rocket science.\")\n",
    "    for n in numbers:\n",
    "        if not isinstance(n, (int, float)):\n",
    "            raise TypeError(f\"No. Wrong. Bad. '{n}' — all elements must be integers or floats, just put numbers...\")\n",
    "    \n",
    "    #Now that we cleared up all that crap up there, we can check for the max.\n",
    "    current_max = list(numbers)[0]\n",
    "    for num in numbers:\n",
    "        if num > current_max:\n",
    "            current_max = num\n",
    "    return current_max\n",
    "\n",
    "\n",
    "# Want to play?\n",
    "while True:\n",
    "    user_input = input(\"Enter numbers separated by commas (or type 'quit' to exit): \")\n",
    "    clear_output(wait=True)  # clears old output for a clean screen\n",
    "    \n",
    "    if user_input.lower() == \"quit\":\n",
    "        print(\"👋 Fine, leave the game. See ya.\")\n",
    "        break\n",
    "    \n",
    "    numbers = []\n",
    "    error = False\n",
    "    for x in user_input.split(\",\"):\n",
    "        x = x.strip()\n",
    "        if x == \"\":\n",
    "            continue\n",
    "        try:\n",
    "            numbers.append(float(x))\n",
    "            elif bad_list := [1, \"two\", 3]:  # string inside a numeric list\n",
    "                find_max(bad_list)\n",
    "        except ValueError:\n",
    "            print(f\"⚠️ '{x}' Seriously? Please enter only numbers separated by commas, gosh.\")\n",
    "            error = True\n",
    "            break\n",
    "    \n",
    "    if not error:\n",
    "        try:\n",
    "            print(f\"You put: {numbers}\")\n",
    "            result = find_max(numbers)\n",
    "            print(f\"The largest number is: {result}\")\n",
    "        except Exception as e:\n",
    "            print(f\"No, bad, wrong, you messed up the code man. Why did you put this?: {e}\")"
   ]
  }
 ],
 "metadata": {
  "kernelspec": {
   "display_name": "Python 3",
   "language": "python",
   "name": "python3"
  },
  "language_info": {
   "codemirror_mode": {
    "name": "ipython",
    "version": 3
   },
   "file_extension": ".py",
   "mimetype": "text/x-python",
   "name": "python",
   "nbconvert_exporter": "python",
   "pygments_lexer": "ipython3",
   "version": "3.13.5"
  }
 },
 "nbformat": 4,
 "nbformat_minor": 5
}
