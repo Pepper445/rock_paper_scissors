{
 "cells": [
  {
   "cell_type": "code",
   "execution_count": 2,
   "id": "c022b103",
   "metadata": {},
   "outputs": [
    {
     "name": "stdout",
     "output_type": "stream",
     "text": [
      "Reversed String Revealed: MAGIC\n"
     ]
    }
   ],
   "source": [
    "def reveal_hidden_word(sentence, step):\n",
    "    words = sentence.split()\n",
    "    letters_backwards = ''.join([words[i][0] for i in range(step-1, len(words), step)])\n",
    "    reverse_string = letters_backwards[::-1]\n",
    "    return reverse_string\n",
    "\n",
    "# test idea\n",
    "sentence = \"On quiet Cloudy nights, some Imaginative travelers stories Gather; an old Ancient oak quietly Murmurs.\"\n",
    "reverse_string = reveal_hidden_word(sentence, 3)\n",
    "print(\"Reversed String Revealed:\", reverse_string)"
   ]
  }
 ],
 "metadata": {
  "kernelspec": {
   "display_name": "Python 3",
   "language": "python",
   "name": "python3"
  },
  "language_info": {
   "codemirror_mode": {
    "name": "ipython",
    "version": 3
   },
   "file_extension": ".py",
   "mimetype": "text/x-python",
   "name": "python",
   "nbconvert_exporter": "python",
   "pygments_lexer": "ipython3",
   "version": "3.13.5"
  }
 },
 "nbformat": 4,
 "nbformat_minor": 5
}
