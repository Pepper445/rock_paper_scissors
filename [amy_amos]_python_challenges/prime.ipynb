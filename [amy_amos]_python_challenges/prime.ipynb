{
 "cells": [
  {
   "cell_type": "code",
   "execution_count": 17,
   "id": "39e823ab",
   "metadata": {},
   "outputs": [
    {
     "name": "stdout",
     "output_type": "stream",
     "text": [
      "12 is not a prime number, waaah.\n"
     ]
    }
   ],
   "source": [
    "from IPython.display import clear_output\n",
    "\n",
    "def is_prime(n: int) -> bool:\n",
    "    if n < 2:\n",
    "        return False\n",
    "    \n",
    "    for i in range(2, int(n**0.5) + 1):\n",
    "        if n % i == 0:\n",
    "            return False\n",
    "    return True\n",
    "\n",
    "\n",
    "# Want to try it? If you enter something invalid, it will ask you to try again.\n",
    "while True:\n",
    "    try:\n",
    "        num = int(input(\"Enter an integer: \"))\n",
    "        break  # exit loop if input is valid\n",
    "\n",
    "    except ValueError:\n",
    "        print(\"Error: Geeze Louise, quit fooling around and enter a NUMBER.\")\n",
    "\n",
    "\n",
    "# Is the number prime?\n",
    "if is_prime(num):\n",
    "    print(f\"{num} is a prime number, congratulations boo!\")\n",
    "else:\n",
    "    print(f\"{num} is not a prime number, waaah.\")"
   ]
  }
 ],
 "metadata": {
  "kernelspec": {
   "display_name": "Python 3",
   "language": "python",
   "name": "python3"
  },
  "language_info": {
   "codemirror_mode": {
    "name": "ipython",
    "version": 3
   },
   "file_extension": ".py",
   "mimetype": "text/x-python",
   "name": "python",
   "nbconvert_exporter": "python",
   "pygments_lexer": "ipython3",
   "version": "3.13.5"
  }
 },
 "nbformat": 4,
 "nbformat_minor": 5
}
