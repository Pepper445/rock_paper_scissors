{
 "cells": [
  {
   "cell_type": "code",
   "execution_count": 8,
   "id": "bb0eae08",
   "metadata": {},
   "outputs": [
    {
     "name": "stdout",
     "output_type": "stream",
     "text": [
      "Caesar Cipher Game (type 'quit' anytime to exit, don't hit escape to end ok?)\n",
      "\n",
      "Please type 'Encode' or 'E', 'Decode' or 'D', or 'quit' to exit.\n",
      "\n",
      "\n",
      "Secret code, woot!: Olpfb ifhbp yfd yrqqp.\n",
      "\n",
      "----\n",
      "\n",
      "\n",
      "Decoded message, yay!: Rosie likes big butts.\n",
      "\n",
      "----\n",
      "\n",
      "Bye Bye!\n"
     ]
    }
   ],
   "source": [
    "from IPython.display import clear_output\n",
    "\n",
    "def caesar_cipher(text: str, shift: int) -> str:\n",
    "    result = \"\"\n",
    "    for char in text:\n",
    "        if char.isalpha():  # only shift letters, I guess we could do numbers too but I'm tired.\n",
    "            base = ord('A') if char.isupper() else ord('a')\n",
    "            new_char = chr((ord(char) - base + shift) % 26 + base)\n",
    "            result += new_char\n",
    "        else:\n",
    "            result += char\n",
    "    return result\n",
    "\n",
    "\n",
    "# --- The whole damn thing! ---\n",
    "print(\"Caesar Cipher Game (type 'quit' anytime to exit, don't hit escape to end ok?)\\n\")\n",
    "\n",
    "while True:\n",
    "    try:\n",
    "        choice = input(\"Do you want to Encode or Decode a message? \").strip().lower()\n",
    "        if choice == \"quit\":\n",
    "            print(\"Bye Bye!\")\n",
    "            break\n",
    "    except KeyboardInterrupt:\n",
    "        print(\"\\nBye Bye!\")\n",
    "        break\n",
    "\n",
    "    # However you tell it to encode/decode should work.\n",
    "    if choice in [\"encode\", \"e\"]:\n",
    "        action = \"encode\"\n",
    "    elif choice in [\"decode\", \"d\"]:\n",
    "        action = \"decode\"\n",
    "    else:\n",
    "        print(\"Please type 'Encode' or 'E', 'Decode' or 'D', or 'quit' to exit.\\n\")\n",
    "        continue\n",
    "\n",
    "    message = input(\"What's your message? : \")\n",
    "    if message.lower() == \"quit\":\n",
    "        print(\"Bye Bye!\")\n",
    "        break\n",
    "\n",
    "    shift_input = input(\"Enter the number that you want to shift the letters in the alphabet, like 3: \")\n",
    "    if shift_input.lower() == \"quit\":\n",
    "        print(\"Bye Bye!\")\n",
    "        break\n",
    "\n",
    "    try:\n",
    "        shift = int(shift_input)\n",
    "    except ValueError:\n",
    "        print(\"Error: shift must be a number, come on.\\n\")\n",
    "        continue\n",
    "\n",
    "    if action == \"encode\":\n",
    "        result = caesar_cipher(message, -shift)  # negative shift for secret code\n",
    "        print(f\"\\nSecret code, woot!: {result}\\n\")\n",
    "    else:\n",
    "        result = caesar_cipher(message, shift)  # positive shift to decode\n",
    "        print(f\"\\nDecoded message, yay!: {result}\\n\")\n",
    "\n",
    "    print(\"----\\n\")  # separator for clarity"
   ]
  }
 ],
 "metadata": {
  "kernelspec": {
   "display_name": "Python 3",
   "language": "python",
   "name": "python3"
  },
  "language_info": {
   "codemirror_mode": {
    "name": "ipython",
    "version": 3
   },
   "file_extension": ".py",
   "mimetype": "text/x-python",
   "name": "python",
   "nbconvert_exporter": "python",
   "pygments_lexer": "ipython3",
   "version": "3.13.5"
  }
 },
 "nbformat": 4,
 "nbformat_minor": 5
}
