{
 "cells": [
  {
   "cell_type": "code",
   "execution_count": 8,
   "id": "58106c96",
   "metadata": {},
   "outputs": [
    {
     "name": "stdout",
     "output_type": "stream",
     "text": [
      "😢 Not a palindrome, so sad too bad! Want to try again?\n",
      "😢 Not a palindrome, so sad too bad! Want to try again?\n",
      "😢 Not a palindrome, so sad too bad! Want to try again?\n",
      "👋 Thanks for playing! Adios, don't let the door hit ya where the Lord split ya!\n"
     ]
    }
   ],
   "source": [
    "# Fresh clean slate!\n",
    "from IPython.display import clear_output\n",
    "\n",
    "def is_palindrome(s):\n",
    "    \"\"\"\n",
    "    Check if user input is a palindrome. Can be a string or number.\n",
    "    \"\"\"\n",
    "    # First convert it all to a string.\n",
    "    s = str(s)\n",
    "\n",
    "    # Convert that to lowercase.\n",
    "    s = s.lower()\n",
    "    \n",
    "    # Remove spaces and punctuation\n",
    "    normalized = ''.join(char for char in s if char.isalnum())\n",
    "\n",
    "    # If you put in a symbol like #*$ then it will tell you it's not a palindrome.\n",
    "    if not normalized:\n",
    "        return False\n",
    "\n",
    "    # Compare the normalized string to its reverse to check for palindrome.\n",
    "    return normalized == normalized[::-1]\n",
    "\n",
    "\n",
    "# Here's the game!\n",
    "while True:\n",
    "    word = input(\"Enter a word, phrase, or number to see if it's a palindrome! (Or type 'quit' to exit): \")\n",
    "    \n",
    "    if word.lower() == \"quit\":\n",
    "        print(\"👋 Thanks for playing! Adios, don't let the door hit ya where the Lord split ya!\")\n",
    "        break\n",
    "    \n",
    "    if is_palindrome(word):\n",
    "        print(\"🎉 Wow! That's a palindrome! I'm lovin' it!\")\n",
    "    else:\n",
    "        print(\"😢 Not a palindrome, so sad too bad! Want to try again?\")"
   ]
  }
 ],
 "metadata": {
  "kernelspec": {
   "display_name": "Python 3",
   "language": "python",
   "name": "python3"
  },
  "language_info": {
   "codemirror_mode": {
    "name": "ipython",
    "version": 3
   },
   "file_extension": ".py",
   "mimetype": "text/x-python",
   "name": "python",
   "nbconvert_exporter": "python",
   "pygments_lexer": "ipython3",
   "version": "3.13.5"
  }
 },
 "nbformat": 4,
 "nbformat_minor": 5
}
