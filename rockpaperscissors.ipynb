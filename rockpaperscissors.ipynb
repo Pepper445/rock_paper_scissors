{
 "cells": [
  {
   "cell_type": "code",
   "execution_count": 9,
   "id": "ca389834",
   "metadata": {},
   "outputs": [
    {
     "name": "stdout",
     "output_type": "stream",
     "text": [
      "Rock n' roll bitches!\n",
      "Your AI Overlord chose: paper\n",
      "Ew, what's that smell? It's you, loser!\n"
     ]
    }
   ],
   "source": [
    "Game = input(\"Choose rock, paper, or scissors!\").lower()\n",
    "if Game == \"rock\":\n",
    "    print(\"Rock n' roll bitches!\")\n",
    "elif Game == \"paper\":\n",
    "    print(\"Paper cuts make you bleed.\")\n",
    "elif Game == \"scissors\":\n",
    "    print(\"Scissors, all the better to snip you with my dear.\")\n",
    "else:\n",
    "    print(\"Cheaters suck. Please choose rock, paper, or scissors and learn how to follow directions better.\")\n",
    "\n",
    "import random\n",
    "\n",
    "mylist = [\"rock\", \"paper\", \"scissors\"]\n",
    "computer = random.choice(mylist)\n",
    "\n",
    "print(f\"Your AI Overlord chose: {computer}\")\n",
    "\n",
    "if Game == computer:\n",
    "    print(\"It's a tie, damn!\")\n",
    "elif (Game == \"rock\" and computer == \"scissors\") or (Game == \"paper\" and computer == \"rock\") or (Game == \"scissors\" and computer == \"paper\"):\n",
    "    print(\"Winner winnter, chicken dinner!\")\n",
    "else:\n",
    "    print(\"Ew, what's that smell? It's you, loser!\")\n"
   ]
  },
  {
   "cell_type": "code",
   "execution_count": null,
   "id": "a8aa9fd1",
   "metadata": {},
   "outputs": [],
   "source": []
  }
 ],
 "metadata": {
  "kernelspec": {
   "display_name": "Python 3",
   "language": "python",
   "name": "python3"
  },
  "language_info": {
   "codemirror_mode": {
    "name": "ipython",
    "version": 3
   },
   "file_extension": ".py",
   "mimetype": "text/x-python",
   "name": "python",
   "nbconvert_exporter": "python",
   "pygments_lexer": "ipython3",
   "version": "3.13.5"
  }
 },
 "nbformat": 4,
 "nbformat_minor": 5
}
